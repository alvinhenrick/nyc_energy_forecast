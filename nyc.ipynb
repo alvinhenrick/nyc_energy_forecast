{
 "cells": [
  {
   "cell_type": "code",
   "execution_count": 1,
   "metadata": {},
   "outputs": [],
   "source": [
    "import pandas as pd\n",
    "import numpy as np\n",
    "import tsfel"
   ]
  },
  {
   "cell_type": "code",
   "execution_count": 2,
   "metadata": {},
   "outputs": [],
   "source": [
    "data = pd.read_csv(\"nyc_energy.csv\", parse_dates=['timeStamp']).sort_values(by='timeStamp') "
   ]
  },
  {
   "cell_type": "code",
   "execution_count": 3,
   "metadata": {},
   "outputs": [
    {
     "name": "stdout",
     "output_type": "stream",
     "text": [
      "44567\n",
      "4557\n",
      "44567\n",
      "4557\n"
     ]
    }
   ],
   "source": [
    "X_train= data[data['timeStamp'] < '2017-02-01']\n",
    "X_test= data[data['timeStamp'] >= '2017-02-01']\n",
    "\n",
    "y_train = X_train.pop('demand').values\n",
    "print(len(y_train))\n",
    "\n",
    "y_test = X_test.pop('demand').values\n",
    "print(len(y_test))\n",
    "\n",
    "X_train = X_train[['precip', 'temp']]\n",
    "print(len(X_train.index))\n",
    "\n",
    "X_test = X_test[['precip', 'temp']]\n",
    "print(len(X_test.index))\n"
   ]
  },
  {
   "cell_type": "code",
   "execution_count": 5,
   "metadata": {},
   "outputs": [],
   "source": [
    "def pad_zeros(data, window_size=24):\n",
    "    zero_pad = pd.DataFrame(np.zeros(shape=(window_size,len(data.columns))),columns=data.columns)\n",
    "    pre_pad_zeros_data = pd.concat([zero_pad,data]).reset_index(drop=True)\n",
    "    return pre_pad_zeros_data   "
   ]
  },
  {
   "cell_type": "code",
   "execution_count": 7,
   "metadata": {},
   "outputs": [
    {
     "name": "stdout",
     "output_type": "stream",
     "text": [
      "44591\n",
      "4581\n"
     ]
    }
   ],
   "source": [
    "X_train_p = pad_zeros(X_train)\n",
    "print(len(X_train_p.index))\n",
    "\n",
    "X_test_p = pad_zeros(X_test)\n",
    "print(len(X_test_p.index))\n",
    "\n",
    "cfg_file = {}\n",
    "cfg_file['temporal'] = tsfel.get_features_by_domain('temporal')['temporal']\n",
    "cfg_file['statistical'] = tsfel.get_features_by_domain('statistical')['statistical']\n"
   ]
  },
  {
   "cell_type": "code",
   "execution_count": 8,
   "metadata": {},
   "outputs": [
    {
     "name": "stdout",
     "output_type": "stream",
     "text": [
      "*** Feature extraction started ***\n"
     ]
    },
    {
     "name": "stderr",
     "output_type": "stream",
     "text": [
      "/Users/shona/PycharmProjects/nyc_energy_forecast/.venv/lib/python3.7/site-packages/ipykernel_launcher.py:1: UserWarning: Using default sampling frequency set in configuration file.\n",
      "  \"\"\"Entry point for launching an IPython kernel.\n"
     ]
    },
    {
     "data": {
      "text/html": [
       "\n",
       "              <p>\n",
       "                  Progress: 100% Complete\n",
       "              <p/>            \n",
       "              <progress\n",
       "                  value='22284'\n",
       "                  max='22284',\n",
       "                  style='width: 25%',\n",
       "              >\n",
       "                  22284\n",
       "              </progress>\n",
       "\n",
       "    "
      ],
      "text/plain": [
       "<IPython.core.display.HTML object>"
      ]
     },
     "metadata": {},
     "output_type": "display_data"
    },
    {
     "name": "stderr",
     "output_type": "stream",
     "text": [
      "/Users/shona/PycharmProjects/nyc_energy_forecast/.venv/lib/python3.7/site-packages/tsfel/feature_extraction/features.py:769: RuntimeWarning: divide by zero encountered in double_scalars\n",
      "  return (p_end - p_init) / (x_end - x_init)\n",
      "/Users/shona/PycharmProjects/nyc_energy_forecast/.venv/lib/python3.7/site-packages/tsfel/feature_extraction/features.py:769: RuntimeWarning: divide by zero encountered in double_scalars\n",
      "  return (p_end - p_init) / (x_end - x_init)\n",
      "/Users/shona/PycharmProjects/nyc_energy_forecast/.venv/lib/python3.7/site-packages/tsfel/feature_extraction/features.py:769: RuntimeWarning: divide by zero encountered in double_scalars\n",
      "  return (p_end - p_init) / (x_end - x_init)\n",
      "/Users/shona/PycharmProjects/nyc_energy_forecast/.venv/lib/python3.7/site-packages/tsfel/feature_extraction/features.py:769: RuntimeWarning: divide by zero encountered in double_scalars\n",
      "  return (p_end - p_init) / (x_end - x_init)\n",
      "/Users/shona/PycharmProjects/nyc_energy_forecast/.venv/lib/python3.7/site-packages/tsfel/feature_extraction/features.py:769: RuntimeWarning: divide by zero encountered in double_scalars\n",
      "  return (p_end - p_init) / (x_end - x_init)\n",
      "/Users/shona/PycharmProjects/nyc_energy_forecast/.venv/lib/python3.7/site-packages/tsfel/feature_extraction/features.py:769: RuntimeWarning: divide by zero encountered in double_scalars\n",
      "  return (p_end - p_init) / (x_end - x_init)\n",
      "/Users/shona/PycharmProjects/nyc_energy_forecast/.venv/lib/python3.7/site-packages/tsfel/feature_extraction/features.py:769: RuntimeWarning: divide by zero encountered in double_scalars\n",
      "  return (p_end - p_init) / (x_end - x_init)\n",
      "/Users/shona/PycharmProjects/nyc_energy_forecast/.venv/lib/python3.7/site-packages/tsfel/feature_extraction/features.py:769: RuntimeWarning: divide by zero encountered in double_scalars\n",
      "  return (p_end - p_init) / (x_end - x_init)\n",
      "/Users/shona/PycharmProjects/nyc_energy_forecast/.venv/lib/python3.7/site-packages/tsfel/feature_extraction/features.py:769: RuntimeWarning: divide by zero encountered in double_scalars\n",
      "  return (p_end - p_init) / (x_end - x_init)\n",
      "/Users/shona/PycharmProjects/nyc_energy_forecast/.venv/lib/python3.7/site-packages/tsfel/feature_extraction/features.py:769: RuntimeWarning: divide by zero encountered in double_scalars\n",
      "  return (p_end - p_init) / (x_end - x_init)\n",
      "/Users/shona/PycharmProjects/nyc_energy_forecast/.venv/lib/python3.7/site-packages/tsfel/feature_extraction/features.py:769: RuntimeWarning: divide by zero encountered in double_scalars\n",
      "  return (p_end - p_init) / (x_end - x_init)\n",
      "/Users/shona/PycharmProjects/nyc_energy_forecast/.venv/lib/python3.7/site-packages/tsfel/feature_extraction/features.py:769: RuntimeWarning: divide by zero encountered in double_scalars\n",
      "  return (p_end - p_init) / (x_end - x_init)\n"
     ]
    },
    {
     "name": "stdout",
     "output_type": "stream",
     "text": [
      "\n",
      "*** Feature extraction finished ***\n",
      "22284\n",
      "110\n"
     ]
    }
   ],
   "source": [
    "x_train_feat = tsfel.time_series_features_extractor(cfg_file, X_train_p, window_size=24,overlap=.90,header_names=['precip','temp'])\n",
    "print(len(x_train_feat.index))\n",
    "print(len(x_train_feat.columns))\n"
   ]
  },
  {
   "cell_type": "code",
   "execution_count": 9,
   "metadata": {},
   "outputs": [
    {
     "name": "stdout",
     "output_type": "stream",
     "text": [
      "*** Feature extraction started ***\n"
     ]
    },
    {
     "name": "stderr",
     "output_type": "stream",
     "text": [
      "/Users/shona/PycharmProjects/nyc_energy_forecast/.venv/lib/python3.7/site-packages/ipykernel_launcher.py:1: UserWarning: Using default sampling frequency set in configuration file.\n",
      "  \"\"\"Entry point for launching an IPython kernel.\n"
     ]
    },
    {
     "data": {
      "text/html": [
       "\n",
       "              <p>\n",
       "                  Progress: 0% Complete\n",
       "              <p/>            \n",
       "              <progress\n",
       "                  value='0'\n",
       "                  max='2279',\n",
       "                  style='width: 25%',\n",
       "              >\n",
       "                  0\n",
       "              </progress>\n",
       "\n",
       "    "
      ],
      "text/plain": [
       "<IPython.core.display.HTML object>"
      ]
     },
     "metadata": {},
     "output_type": "display_data"
    },
    {
     "name": "stderr",
     "output_type": "stream",
     "text": [
      "/Users/shona/PycharmProjects/nyc_energy_forecast/.venv/lib/python3.7/site-packages/tsfel/feature_extraction/features.py:769: RuntimeWarning: divide by zero encountered in double_scalars\n",
      "  return (p_end - p_init) / (x_end - x_init)\n",
      "/Users/shona/PycharmProjects/nyc_energy_forecast/.venv/lib/python3.7/site-packages/tsfel/feature_extraction/features.py:769: RuntimeWarning: divide by zero encountered in double_scalars\n",
      "  return (p_end - p_init) / (x_end - x_init)\n"
     ]
    }
   ],
   "source": [
    "x_test_feat = tsfel.time_series_features_extractor(cfg_file, X_test_p, window_size=24,overlap=.90,header_names=['precip','temp'])\n",
    "print(len(x_test_feat.index))\n",
    "print(len(x_test_feat.columns))"
   ]
  },
  {
   "cell_type": "code",
   "execution_count": 8,
   "metadata": {},
   "outputs": [],
   "source": [
    "import optuna\n",
    "from xgboost import XGBRegressor\n",
    "from sklearn.metrics import mean_absolute_error, mean_squared_error\n",
    "from sklearn.model_selection import GridSearchCV\n",
    "from sklearn.ensemble import RandomForestRegressor\n",
    "from sklearn.linear_model import SGDRegressor\n",
    "from sklearn import model_selection\n",
    "from sklearn import preprocessing\n",
    "from sklearn.feature_selection import VarianceThreshold"
   ]
  },
  {
   "cell_type": "code",
   "execution_count": 9,
   "metadata": {},
   "outputs": [],
   "source": [
    "def fill_missing_values(df):\n",
    "    \"\"\" Handle eventual missing data. Strategy: replace with mean.\n",
    "    \n",
    "      Parameters\n",
    "      ----------\n",
    "      df pandas DataFrame\n",
    "      Returns\n",
    "      -------\n",
    "        Data Frame without missing values.\n",
    "    \"\"\"\n",
    "    df.replace([np.inf, -np.inf], np.nan, inplace=True)\n",
    "    df.fillna(df.mean(), inplace=True)\n",
    "    return df"
   ]
  },
  {
   "cell_type": "code",
   "execution_count": 10,
   "metadata": {},
   "outputs": [],
   "source": [
    "# Handling eventual missing values from the feature extraction\n",
    "x_train_feat_a = pd.concat([X_train.reset_index(drop=True),x_train_feat],axis=1)\n",
    "x_test_feat_a = pd.concat([X_test.reset_index(drop=True),x_test_feat],axis=1)"
   ]
  },
  {
   "cell_type": "code",
   "execution_count": 11,
   "metadata": {},
   "outputs": [
    {
     "data": {
      "text/plain": [
       "106"
      ]
     },
     "execution_count": 11,
     "metadata": {},
     "output_type": "execute_result"
    }
   ],
   "source": [
    "len(x_train_feat_a.columns)"
   ]
  },
  {
   "cell_type": "code",
   "execution_count": 12,
   "metadata": {},
   "outputs": [],
   "source": [
    "x_train_feat_a = fill_missing_values(x_train_feat_a)\n",
    "x_test_feat_a = fill_missing_values(x_test_feat_a)"
   ]
  },
  {
   "cell_type": "code",
   "execution_count": 13,
   "metadata": {},
   "outputs": [],
   "source": [
    "# Highly correlated features are removed\n",
    "corr_features = tsfel.correlated_features(x_train_feat_a)\n",
    "x_train_feat_a.drop(corr_features, axis=1, inplace=True)\n",
    "x_test_feat_a.drop(corr_features, axis=1, inplace=True)"
   ]
  },
  {
   "cell_type": "code",
   "execution_count": 14,
   "metadata": {},
   "outputs": [],
   "source": [
    "# Remove low variance features\n",
    "selector = VarianceThreshold()\n",
    "selector.fit(x_train_feat_a)\n",
    "x_train_feat_a = x_train_feat_a.loc[:,selector.get_support()]\n",
    "x_test_feat_a = x_test_feat_a.loc[:,selector.get_support()]"
   ]
  },
  {
   "cell_type": "code",
   "execution_count": 15,
   "metadata": {},
   "outputs": [
    {
     "data": {
      "text/plain": [
       "44567"
      ]
     },
     "execution_count": 15,
     "metadata": {},
     "output_type": "execute_result"
    }
   ],
   "source": [
    "len(x_train_feat_a.index)"
   ]
  },
  {
   "cell_type": "code",
   "execution_count": 16,
   "metadata": {},
   "outputs": [],
   "source": [
    "# Normalising Features\n",
    "min_max_scaler = preprocessing.StandardScaler()\n",
    "nX_train = min_max_scaler.fit_transform(x_train_feat_a)\n",
    "nX_test = min_max_scaler.transform(x_test_feat_a)"
   ]
  },
  {
   "cell_type": "code",
   "execution_count": 17,
   "metadata": {},
   "outputs": [],
   "source": [
    "# Step 1. Define an objective function to be maximized.\n",
    "def objective(trial):\n",
    "    regressor_name = trial.suggest_categorical(\"regressor\", [\"RandomForestRegressor\", \"XGBRegressor\"])\n",
    "\n",
    "    # Step 2. Setup values for the hyperparameters:\n",
    "    if regressor_name == 'RandomForestRegressor':\n",
    "        rf_n_estimators = trial.suggest_int(\"rf_n_estimators\", 10, 100)\n",
    "        rf_max_depth = trial.suggest_int(\"rf_max_depth\", 2, 32, log=True)\n",
    "        regressor_obj = RandomForestRegressor(max_depth=rf_max_depth, n_estimators=rf_n_estimators)\n",
    "    else:\n",
    "        xgb_n_estimators = trial.suggest_int(\"xgb_n_estimators\", 10, 100)\n",
    "        xgb_max_depth = trial.suggest_int(\"xgb_max_depth\", 2, 32, log=True)\n",
    "        regressor_obj = XGBRegressor(max_depth=xgb_max_depth, n_estimators=xgb_n_estimators)\n",
    "\n",
    "    # tscv = model_selection.TimeSeriesSplit(n_splits=3)\n",
    "    #Step 3: Scoring method:\n",
    "    score = model_selection.cross_val_score(regressor_obj, nX_train, y_train, n_jobs=-1, scoring = \"neg_mean_absolute_error\", cv=3)\n",
    "    loss = score.mean()\n",
    "#     regressor_obj.fit(nX_train, y_train)\n",
    "#     train_pred = regressor_obj.predict(nX_train)\n",
    "#     loss = mean_absolute_error(y_train, train_pred)\n",
    "    return loss \n"
   ]
  },
  {
   "cell_type": "code",
   "execution_count": 18,
   "metadata": {},
   "outputs": [
    {
     "name": "stderr",
     "output_type": "stream",
     "text": [
      "[I 2020-09-10 13:42:02,532] Trial 0 finished with value: -606.648974780057 and parameters: {'regressor': 'RandomForestRegressor', 'rf_n_estimators': 91, 'rf_max_depth': 8}. Best is trial 0 with value: -606.648974780057.\n",
      "[I 2020-09-10 13:42:06,113] Trial 1 finished with value: -600.0141087640817 and parameters: {'regressor': 'XGBRegressor', 'xgb_n_estimators': 76, 'xgb_max_depth': 3}. Best is trial 1 with value: -600.0141087640817.\n",
      "[I 2020-09-10 13:42:16,326] Trial 2 finished with value: -605.2987155603643 and parameters: {'regressor': 'RandomForestRegressor', 'rf_n_estimators': 29, 'rf_max_depth': 24}. Best is trial 1 with value: -600.0141087640817.\n",
      "[I 2020-09-10 13:42:32,177] Trial 3 finished with value: -598.9775382179604 and parameters: {'regressor': 'RandomForestRegressor', 'rf_n_estimators': 64, 'rf_max_depth': 13}. Best is trial 3 with value: -598.9775382179604.\n",
      "[I 2020-09-10 13:42:41,755] Trial 4 finished with value: -640.0789356137426 and parameters: {'regressor': 'XGBRegressor', 'xgb_n_estimators': 22, 'xgb_max_depth': 28}. Best is trial 3 with value: -598.9775382179604.\n",
      "[I 2020-09-10 13:42:47,350] Trial 5 finished with value: -665.2818504661237 and parameters: {'regressor': 'RandomForestRegressor', 'rf_n_estimators': 83, 'rf_max_depth': 3}. Best is trial 3 with value: -598.9775382179604.\n",
      "[I 2020-09-10 13:42:50,197] Trial 6 finished with value: -597.8645514623296 and parameters: {'regressor': 'XGBRegressor', 'xgb_n_estimators': 34, 'xgb_max_depth': 5}. Best is trial 6 with value: -597.8645514623296.\n",
      "[I 2020-09-10 13:43:16,619] Trial 7 finished with value: -599.593596059812 and parameters: {'regressor': 'RandomForestRegressor', 'rf_n_estimators': 87, 'rf_max_depth': 18}. Best is trial 6 with value: -597.8645514623296.\n",
      "[I 2020-09-10 13:43:29,820] Trial 8 finished with value: -620.686808321048 and parameters: {'regressor': 'XGBRegressor', 'xgb_n_estimators': 97, 'xgb_max_depth': 10}. Best is trial 6 with value: -597.8645514623296.\n",
      "[I 2020-09-10 13:43:30,752] Trial 9 finished with value: -614.1371151458428 and parameters: {'regressor': 'XGBRegressor', 'xgb_n_estimators': 15, 'xgb_max_depth': 3}. Best is trial 6 with value: -597.8645514623296.\n",
      "[I 2020-09-10 13:43:36,024] Trial 10 finished with value: -606.4564865851877 and parameters: {'regressor': 'XGBRegressor', 'xgb_n_estimators': 49, 'xgb_max_depth': 8}. Best is trial 6 with value: -597.8645514623296.\n",
      "[I 2020-09-10 13:43:43,900] Trial 11 finished with value: -607.5248541778627 and parameters: {'regressor': 'RandomForestRegressor', 'rf_n_estimators': 50, 'rf_max_depth': 8}. Best is trial 6 with value: -597.8645514623296.\n",
      "[I 2020-09-10 13:43:45,242] Trial 12 finished with value: -610.3878028060693 and parameters: {'regressor': 'XGBRegressor', 'xgb_n_estimators': 43, 'xgb_max_depth': 2}. Best is trial 6 with value: -597.8645514623296.\n",
      "[I 2020-09-10 13:43:48,214] Trial 13 finished with value: -693.524926802419 and parameters: {'regressor': 'RandomForestRegressor', 'rf_n_estimators': 60, 'rf_max_depth': 2}. Best is trial 6 with value: -597.8645514623296.\n",
      "[I 2020-09-10 13:43:56,036] Trial 14 finished with value: -634.0293708436482 and parameters: {'regressor': 'XGBRegressor', 'xgb_n_estimators': 31, 'xgb_max_depth': 17}. Best is trial 6 with value: -597.8645514623296.\n",
      "[I 2020-09-10 13:44:11,188] Trial 15 finished with value: -599.9135760706498 and parameters: {'regressor': 'RandomForestRegressor', 'rf_n_estimators': 60, 'rf_max_depth': 14}. Best is trial 6 with value: -597.8645514623296.\n",
      "[I 2020-09-10 13:44:15,552] Trial 16 finished with value: -596.7930180839415 and parameters: {'regressor': 'XGBRegressor', 'xgb_n_estimators': 64, 'xgb_max_depth': 5}. Best is trial 16 with value: -596.7930180839415.\n",
      "[I 2020-09-10 13:44:20,047] Trial 17 finished with value: -596.928582154436 and parameters: {'regressor': 'XGBRegressor', 'xgb_n_estimators': 70, 'xgb_max_depth': 5}. Best is trial 16 with value: -596.7930180839415.\n",
      "[I 2020-09-10 13:44:24,769] Trial 18 finished with value: -596.8712575446629 and parameters: {'regressor': 'XGBRegressor', 'xgb_n_estimators': 71, 'xgb_max_depth': 5}. Best is trial 16 with value: -596.7930180839415.\n",
      "[I 2020-09-10 13:44:28,400] Trial 19 finished with value: -598.6469027364411 and parameters: {'regressor': 'XGBRegressor', 'xgb_n_estimators': 68, 'xgb_max_depth': 4}. Best is trial 16 with value: -596.7930180839415.\n",
      "[I 2020-09-10 13:44:31,056] Trial 20 finished with value: -603.6541479048702 and parameters: {'regressor': 'XGBRegressor', 'xgb_n_estimators': 91, 'xgb_max_depth': 2}. Best is trial 16 with value: -596.7930180839415.\n",
      "[I 2020-09-10 13:44:35,390] Trial 21 finished with value: -596.7898031614675 and parameters: {'regressor': 'XGBRegressor', 'xgb_n_estimators': 66, 'xgb_max_depth': 5}. Best is trial 21 with value: -596.7898031614675.\n",
      "[I 2020-09-10 13:44:42,131] Trial 22 finished with value: -608.9384234087007 and parameters: {'regressor': 'XGBRegressor', 'xgb_n_estimators': 63, 'xgb_max_depth': 8}. Best is trial 21 with value: -596.7898031614675.\n",
      "[I 2020-09-10 13:44:47,433] Trial 23 finished with value: -597.4051490521553 and parameters: {'regressor': 'XGBRegressor', 'xgb_n_estimators': 81, 'xgb_max_depth': 5}. Best is trial 21 with value: -596.7898031614675.\n",
      "[I 2020-09-10 13:44:54,736] Trial 24 finished with value: -614.7461488201187 and parameters: {'regressor': 'XGBRegressor', 'xgb_n_estimators': 54, 'xgb_max_depth': 10}. Best is trial 21 with value: -596.7898031614675.\n"
     ]
    }
   ],
   "source": [
    "# Step 4: Running it\n",
    "from optuna.samplers import TPESampler\n",
    "study = optuna.create_study(direction=\"maximize\", sampler=TPESampler())\n",
    "study.optimize(objective, n_trials=25)"
   ]
  },
  {
   "cell_type": "code",
   "execution_count": 19,
   "metadata": {},
   "outputs": [
    {
     "name": "stdout",
     "output_type": "stream",
     "text": [
      "Minimum mean squared error: -596.7898031614675\n",
      "Best parameter: {'regressor': 'XGBRegressor', 'xgb_n_estimators': 66, 'xgb_max_depth': 5}\n"
     ]
    },
    {
     "data": {
      "text/html": [
       "<div>\n",
       "<style scoped>\n",
       "    .dataframe tbody tr th:only-of-type {\n",
       "        vertical-align: middle;\n",
       "    }\n",
       "\n",
       "    .dataframe tbody tr th {\n",
       "        vertical-align: top;\n",
       "    }\n",
       "\n",
       "    .dataframe thead th {\n",
       "        text-align: right;\n",
       "    }\n",
       "</style>\n",
       "<table border=\"1\" class=\"dataframe\">\n",
       "  <thead>\n",
       "    <tr style=\"text-align: right;\">\n",
       "      <th></th>\n",
       "      <th>number</th>\n",
       "      <th>value</th>\n",
       "      <th>datetime_start</th>\n",
       "      <th>datetime_complete</th>\n",
       "      <th>duration</th>\n",
       "      <th>params_regressor</th>\n",
       "      <th>params_rf_max_depth</th>\n",
       "      <th>params_rf_n_estimators</th>\n",
       "      <th>params_xgb_max_depth</th>\n",
       "      <th>params_xgb_n_estimators</th>\n",
       "      <th>state</th>\n",
       "    </tr>\n",
       "  </thead>\n",
       "  <tbody>\n",
       "    <tr>\n",
       "      <th>0</th>\n",
       "      <td>0</td>\n",
       "      <td>-606.648975</td>\n",
       "      <td>2020-09-10 13:41:48.050931</td>\n",
       "      <td>2020-09-10 13:42:02.531106</td>\n",
       "      <td>0 days 00:00:14.480175</td>\n",
       "      <td>RandomForestRegressor</td>\n",
       "      <td>8.0</td>\n",
       "      <td>91.0</td>\n",
       "      <td>NaN</td>\n",
       "      <td>NaN</td>\n",
       "      <td>COMPLETE</td>\n",
       "    </tr>\n",
       "    <tr>\n",
       "      <th>1</th>\n",
       "      <td>1</td>\n",
       "      <td>-600.014109</td>\n",
       "      <td>2020-09-10 13:42:02.535507</td>\n",
       "      <td>2020-09-10 13:42:06.112876</td>\n",
       "      <td>0 days 00:00:03.577369</td>\n",
       "      <td>XGBRegressor</td>\n",
       "      <td>NaN</td>\n",
       "      <td>NaN</td>\n",
       "      <td>3.0</td>\n",
       "      <td>76.0</td>\n",
       "      <td>COMPLETE</td>\n",
       "    </tr>\n",
       "    <tr>\n",
       "      <th>2</th>\n",
       "      <td>2</td>\n",
       "      <td>-605.298716</td>\n",
       "      <td>2020-09-10 13:42:06.115753</td>\n",
       "      <td>2020-09-10 13:42:16.325784</td>\n",
       "      <td>0 days 00:00:10.210031</td>\n",
       "      <td>RandomForestRegressor</td>\n",
       "      <td>24.0</td>\n",
       "      <td>29.0</td>\n",
       "      <td>NaN</td>\n",
       "      <td>NaN</td>\n",
       "      <td>COMPLETE</td>\n",
       "    </tr>\n",
       "    <tr>\n",
       "      <th>3</th>\n",
       "      <td>3</td>\n",
       "      <td>-598.977538</td>\n",
       "      <td>2020-09-10 13:42:16.329149</td>\n",
       "      <td>2020-09-10 13:42:32.176727</td>\n",
       "      <td>0 days 00:00:15.847578</td>\n",
       "      <td>RandomForestRegressor</td>\n",
       "      <td>13.0</td>\n",
       "      <td>64.0</td>\n",
       "      <td>NaN</td>\n",
       "      <td>NaN</td>\n",
       "      <td>COMPLETE</td>\n",
       "    </tr>\n",
       "    <tr>\n",
       "      <th>4</th>\n",
       "      <td>4</td>\n",
       "      <td>-640.078936</td>\n",
       "      <td>2020-09-10 13:42:32.179322</td>\n",
       "      <td>2020-09-10 13:42:41.754778</td>\n",
       "      <td>0 days 00:00:09.575456</td>\n",
       "      <td>XGBRegressor</td>\n",
       "      <td>NaN</td>\n",
       "      <td>NaN</td>\n",
       "      <td>28.0</td>\n",
       "      <td>22.0</td>\n",
       "      <td>COMPLETE</td>\n",
       "    </tr>\n",
       "    <tr>\n",
       "      <th>5</th>\n",
       "      <td>5</td>\n",
       "      <td>-665.281850</td>\n",
       "      <td>2020-09-10 13:42:41.758508</td>\n",
       "      <td>2020-09-10 13:42:47.350174</td>\n",
       "      <td>0 days 00:00:05.591666</td>\n",
       "      <td>RandomForestRegressor</td>\n",
       "      <td>3.0</td>\n",
       "      <td>83.0</td>\n",
       "      <td>NaN</td>\n",
       "      <td>NaN</td>\n",
       "      <td>COMPLETE</td>\n",
       "    </tr>\n",
       "    <tr>\n",
       "      <th>6</th>\n",
       "      <td>6</td>\n",
       "      <td>-597.864551</td>\n",
       "      <td>2020-09-10 13:42:47.353455</td>\n",
       "      <td>2020-09-10 13:42:50.196621</td>\n",
       "      <td>0 days 00:00:02.843166</td>\n",
       "      <td>XGBRegressor</td>\n",
       "      <td>NaN</td>\n",
       "      <td>NaN</td>\n",
       "      <td>5.0</td>\n",
       "      <td>34.0</td>\n",
       "      <td>COMPLETE</td>\n",
       "    </tr>\n",
       "    <tr>\n",
       "      <th>7</th>\n",
       "      <td>7</td>\n",
       "      <td>-599.593596</td>\n",
       "      <td>2020-09-10 13:42:50.199651</td>\n",
       "      <td>2020-09-10 13:43:16.618852</td>\n",
       "      <td>0 days 00:00:26.419201</td>\n",
       "      <td>RandomForestRegressor</td>\n",
       "      <td>18.0</td>\n",
       "      <td>87.0</td>\n",
       "      <td>NaN</td>\n",
       "      <td>NaN</td>\n",
       "      <td>COMPLETE</td>\n",
       "    </tr>\n",
       "    <tr>\n",
       "      <th>8</th>\n",
       "      <td>8</td>\n",
       "      <td>-620.686808</td>\n",
       "      <td>2020-09-10 13:43:16.622143</td>\n",
       "      <td>2020-09-10 13:43:29.819769</td>\n",
       "      <td>0 days 00:00:13.197626</td>\n",
       "      <td>XGBRegressor</td>\n",
       "      <td>NaN</td>\n",
       "      <td>NaN</td>\n",
       "      <td>10.0</td>\n",
       "      <td>97.0</td>\n",
       "      <td>COMPLETE</td>\n",
       "    </tr>\n",
       "    <tr>\n",
       "      <th>9</th>\n",
       "      <td>9</td>\n",
       "      <td>-614.137115</td>\n",
       "      <td>2020-09-10 13:43:29.822919</td>\n",
       "      <td>2020-09-10 13:43:30.751872</td>\n",
       "      <td>0 days 00:00:00.928953</td>\n",
       "      <td>XGBRegressor</td>\n",
       "      <td>NaN</td>\n",
       "      <td>NaN</td>\n",
       "      <td>3.0</td>\n",
       "      <td>15.0</td>\n",
       "      <td>COMPLETE</td>\n",
       "    </tr>\n",
       "    <tr>\n",
       "      <th>10</th>\n",
       "      <td>10</td>\n",
       "      <td>-606.456487</td>\n",
       "      <td>2020-09-10 13:43:30.755054</td>\n",
       "      <td>2020-09-10 13:43:36.024031</td>\n",
       "      <td>0 days 00:00:05.268977</td>\n",
       "      <td>XGBRegressor</td>\n",
       "      <td>NaN</td>\n",
       "      <td>NaN</td>\n",
       "      <td>8.0</td>\n",
       "      <td>49.0</td>\n",
       "      <td>COMPLETE</td>\n",
       "    </tr>\n",
       "    <tr>\n",
       "      <th>11</th>\n",
       "      <td>11</td>\n",
       "      <td>-607.524854</td>\n",
       "      <td>2020-09-10 13:43:36.027265</td>\n",
       "      <td>2020-09-10 13:43:43.899969</td>\n",
       "      <td>0 days 00:00:07.872704</td>\n",
       "      <td>RandomForestRegressor</td>\n",
       "      <td>8.0</td>\n",
       "      <td>50.0</td>\n",
       "      <td>NaN</td>\n",
       "      <td>NaN</td>\n",
       "      <td>COMPLETE</td>\n",
       "    </tr>\n",
       "    <tr>\n",
       "      <th>12</th>\n",
       "      <td>12</td>\n",
       "      <td>-610.387803</td>\n",
       "      <td>2020-09-10 13:43:43.903139</td>\n",
       "      <td>2020-09-10 13:43:45.242100</td>\n",
       "      <td>0 days 00:00:01.338961</td>\n",
       "      <td>XGBRegressor</td>\n",
       "      <td>NaN</td>\n",
       "      <td>NaN</td>\n",
       "      <td>2.0</td>\n",
       "      <td>43.0</td>\n",
       "      <td>COMPLETE</td>\n",
       "    </tr>\n",
       "    <tr>\n",
       "      <th>13</th>\n",
       "      <td>13</td>\n",
       "      <td>-693.524927</td>\n",
       "      <td>2020-09-10 13:43:45.245930</td>\n",
       "      <td>2020-09-10 13:43:48.214080</td>\n",
       "      <td>0 days 00:00:02.968150</td>\n",
       "      <td>RandomForestRegressor</td>\n",
       "      <td>2.0</td>\n",
       "      <td>60.0</td>\n",
       "      <td>NaN</td>\n",
       "      <td>NaN</td>\n",
       "      <td>COMPLETE</td>\n",
       "    </tr>\n",
       "    <tr>\n",
       "      <th>14</th>\n",
       "      <td>14</td>\n",
       "      <td>-634.029371</td>\n",
       "      <td>2020-09-10 13:43:48.217344</td>\n",
       "      <td>2020-09-10 13:43:56.035899</td>\n",
       "      <td>0 days 00:00:07.818555</td>\n",
       "      <td>XGBRegressor</td>\n",
       "      <td>NaN</td>\n",
       "      <td>NaN</td>\n",
       "      <td>17.0</td>\n",
       "      <td>31.0</td>\n",
       "      <td>COMPLETE</td>\n",
       "    </tr>\n",
       "    <tr>\n",
       "      <th>15</th>\n",
       "      <td>15</td>\n",
       "      <td>-599.913576</td>\n",
       "      <td>2020-09-10 13:43:56.039115</td>\n",
       "      <td>2020-09-10 13:44:11.187845</td>\n",
       "      <td>0 days 00:00:15.148730</td>\n",
       "      <td>RandomForestRegressor</td>\n",
       "      <td>14.0</td>\n",
       "      <td>60.0</td>\n",
       "      <td>NaN</td>\n",
       "      <td>NaN</td>\n",
       "      <td>COMPLETE</td>\n",
       "    </tr>\n",
       "    <tr>\n",
       "      <th>16</th>\n",
       "      <td>16</td>\n",
       "      <td>-596.793018</td>\n",
       "      <td>2020-09-10 13:44:11.190788</td>\n",
       "      <td>2020-09-10 13:44:15.551826</td>\n",
       "      <td>0 days 00:00:04.361038</td>\n",
       "      <td>XGBRegressor</td>\n",
       "      <td>NaN</td>\n",
       "      <td>NaN</td>\n",
       "      <td>5.0</td>\n",
       "      <td>64.0</td>\n",
       "      <td>COMPLETE</td>\n",
       "    </tr>\n",
       "    <tr>\n",
       "      <th>17</th>\n",
       "      <td>17</td>\n",
       "      <td>-596.928582</td>\n",
       "      <td>2020-09-10 13:44:15.555217</td>\n",
       "      <td>2020-09-10 13:44:20.047053</td>\n",
       "      <td>0 days 00:00:04.491836</td>\n",
       "      <td>XGBRegressor</td>\n",
       "      <td>NaN</td>\n",
       "      <td>NaN</td>\n",
       "      <td>5.0</td>\n",
       "      <td>70.0</td>\n",
       "      <td>COMPLETE</td>\n",
       "    </tr>\n",
       "    <tr>\n",
       "      <th>18</th>\n",
       "      <td>18</td>\n",
       "      <td>-596.871258</td>\n",
       "      <td>2020-09-10 13:44:20.050357</td>\n",
       "      <td>2020-09-10 13:44:24.769214</td>\n",
       "      <td>0 days 00:00:04.718857</td>\n",
       "      <td>XGBRegressor</td>\n",
       "      <td>NaN</td>\n",
       "      <td>NaN</td>\n",
       "      <td>5.0</td>\n",
       "      <td>71.0</td>\n",
       "      <td>COMPLETE</td>\n",
       "    </tr>\n",
       "    <tr>\n",
       "      <th>19</th>\n",
       "      <td>19</td>\n",
       "      <td>-598.646903</td>\n",
       "      <td>2020-09-10 13:44:24.771594</td>\n",
       "      <td>2020-09-10 13:44:28.400203</td>\n",
       "      <td>0 days 00:00:03.628609</td>\n",
       "      <td>XGBRegressor</td>\n",
       "      <td>NaN</td>\n",
       "      <td>NaN</td>\n",
       "      <td>4.0</td>\n",
       "      <td>68.0</td>\n",
       "      <td>COMPLETE</td>\n",
       "    </tr>\n",
       "    <tr>\n",
       "      <th>20</th>\n",
       "      <td>20</td>\n",
       "      <td>-603.654148</td>\n",
       "      <td>2020-09-10 13:44:28.402540</td>\n",
       "      <td>2020-09-10 13:44:31.056217</td>\n",
       "      <td>0 days 00:00:02.653677</td>\n",
       "      <td>XGBRegressor</td>\n",
       "      <td>NaN</td>\n",
       "      <td>NaN</td>\n",
       "      <td>2.0</td>\n",
       "      <td>91.0</td>\n",
       "      <td>COMPLETE</td>\n",
       "    </tr>\n",
       "    <tr>\n",
       "      <th>21</th>\n",
       "      <td>21</td>\n",
       "      <td>-596.789803</td>\n",
       "      <td>2020-09-10 13:44:31.059666</td>\n",
       "      <td>2020-09-10 13:44:35.389997</td>\n",
       "      <td>0 days 00:00:04.330331</td>\n",
       "      <td>XGBRegressor</td>\n",
       "      <td>NaN</td>\n",
       "      <td>NaN</td>\n",
       "      <td>5.0</td>\n",
       "      <td>66.0</td>\n",
       "      <td>COMPLETE</td>\n",
       "    </tr>\n",
       "    <tr>\n",
       "      <th>22</th>\n",
       "      <td>22</td>\n",
       "      <td>-608.938423</td>\n",
       "      <td>2020-09-10 13:44:35.393131</td>\n",
       "      <td>2020-09-10 13:44:42.130861</td>\n",
       "      <td>0 days 00:00:06.737730</td>\n",
       "      <td>XGBRegressor</td>\n",
       "      <td>NaN</td>\n",
       "      <td>NaN</td>\n",
       "      <td>8.0</td>\n",
       "      <td>63.0</td>\n",
       "      <td>COMPLETE</td>\n",
       "    </tr>\n",
       "    <tr>\n",
       "      <th>23</th>\n",
       "      <td>23</td>\n",
       "      <td>-597.405149</td>\n",
       "      <td>2020-09-10 13:44:42.133815</td>\n",
       "      <td>2020-09-10 13:44:47.433307</td>\n",
       "      <td>0 days 00:00:05.299492</td>\n",
       "      <td>XGBRegressor</td>\n",
       "      <td>NaN</td>\n",
       "      <td>NaN</td>\n",
       "      <td>5.0</td>\n",
       "      <td>81.0</td>\n",
       "      <td>COMPLETE</td>\n",
       "    </tr>\n",
       "    <tr>\n",
       "      <th>24</th>\n",
       "      <td>24</td>\n",
       "      <td>-614.746149</td>\n",
       "      <td>2020-09-10 13:44:47.436637</td>\n",
       "      <td>2020-09-10 13:44:54.736095</td>\n",
       "      <td>0 days 00:00:07.299458</td>\n",
       "      <td>XGBRegressor</td>\n",
       "      <td>NaN</td>\n",
       "      <td>NaN</td>\n",
       "      <td>10.0</td>\n",
       "      <td>54.0</td>\n",
       "      <td>COMPLETE</td>\n",
       "    </tr>\n",
       "  </tbody>\n",
       "</table>\n",
       "</div>"
      ],
      "text/plain": [
       "    number       value             datetime_start          datetime_complete  \\\n",
       "0        0 -606.648975 2020-09-10 13:41:48.050931 2020-09-10 13:42:02.531106   \n",
       "1        1 -600.014109 2020-09-10 13:42:02.535507 2020-09-10 13:42:06.112876   \n",
       "2        2 -605.298716 2020-09-10 13:42:06.115753 2020-09-10 13:42:16.325784   \n",
       "3        3 -598.977538 2020-09-10 13:42:16.329149 2020-09-10 13:42:32.176727   \n",
       "4        4 -640.078936 2020-09-10 13:42:32.179322 2020-09-10 13:42:41.754778   \n",
       "5        5 -665.281850 2020-09-10 13:42:41.758508 2020-09-10 13:42:47.350174   \n",
       "6        6 -597.864551 2020-09-10 13:42:47.353455 2020-09-10 13:42:50.196621   \n",
       "7        7 -599.593596 2020-09-10 13:42:50.199651 2020-09-10 13:43:16.618852   \n",
       "8        8 -620.686808 2020-09-10 13:43:16.622143 2020-09-10 13:43:29.819769   \n",
       "9        9 -614.137115 2020-09-10 13:43:29.822919 2020-09-10 13:43:30.751872   \n",
       "10      10 -606.456487 2020-09-10 13:43:30.755054 2020-09-10 13:43:36.024031   \n",
       "11      11 -607.524854 2020-09-10 13:43:36.027265 2020-09-10 13:43:43.899969   \n",
       "12      12 -610.387803 2020-09-10 13:43:43.903139 2020-09-10 13:43:45.242100   \n",
       "13      13 -693.524927 2020-09-10 13:43:45.245930 2020-09-10 13:43:48.214080   \n",
       "14      14 -634.029371 2020-09-10 13:43:48.217344 2020-09-10 13:43:56.035899   \n",
       "15      15 -599.913576 2020-09-10 13:43:56.039115 2020-09-10 13:44:11.187845   \n",
       "16      16 -596.793018 2020-09-10 13:44:11.190788 2020-09-10 13:44:15.551826   \n",
       "17      17 -596.928582 2020-09-10 13:44:15.555217 2020-09-10 13:44:20.047053   \n",
       "18      18 -596.871258 2020-09-10 13:44:20.050357 2020-09-10 13:44:24.769214   \n",
       "19      19 -598.646903 2020-09-10 13:44:24.771594 2020-09-10 13:44:28.400203   \n",
       "20      20 -603.654148 2020-09-10 13:44:28.402540 2020-09-10 13:44:31.056217   \n",
       "21      21 -596.789803 2020-09-10 13:44:31.059666 2020-09-10 13:44:35.389997   \n",
       "22      22 -608.938423 2020-09-10 13:44:35.393131 2020-09-10 13:44:42.130861   \n",
       "23      23 -597.405149 2020-09-10 13:44:42.133815 2020-09-10 13:44:47.433307   \n",
       "24      24 -614.746149 2020-09-10 13:44:47.436637 2020-09-10 13:44:54.736095   \n",
       "\n",
       "                 duration       params_regressor  params_rf_max_depth  \\\n",
       "0  0 days 00:00:14.480175  RandomForestRegressor                  8.0   \n",
       "1  0 days 00:00:03.577369           XGBRegressor                  NaN   \n",
       "2  0 days 00:00:10.210031  RandomForestRegressor                 24.0   \n",
       "3  0 days 00:00:15.847578  RandomForestRegressor                 13.0   \n",
       "4  0 days 00:00:09.575456           XGBRegressor                  NaN   \n",
       "5  0 days 00:00:05.591666  RandomForestRegressor                  3.0   \n",
       "6  0 days 00:00:02.843166           XGBRegressor                  NaN   \n",
       "7  0 days 00:00:26.419201  RandomForestRegressor                 18.0   \n",
       "8  0 days 00:00:13.197626           XGBRegressor                  NaN   \n",
       "9  0 days 00:00:00.928953           XGBRegressor                  NaN   \n",
       "10 0 days 00:00:05.268977           XGBRegressor                  NaN   \n",
       "11 0 days 00:00:07.872704  RandomForestRegressor                  8.0   \n",
       "12 0 days 00:00:01.338961           XGBRegressor                  NaN   \n",
       "13 0 days 00:00:02.968150  RandomForestRegressor                  2.0   \n",
       "14 0 days 00:00:07.818555           XGBRegressor                  NaN   \n",
       "15 0 days 00:00:15.148730  RandomForestRegressor                 14.0   \n",
       "16 0 days 00:00:04.361038           XGBRegressor                  NaN   \n",
       "17 0 days 00:00:04.491836           XGBRegressor                  NaN   \n",
       "18 0 days 00:00:04.718857           XGBRegressor                  NaN   \n",
       "19 0 days 00:00:03.628609           XGBRegressor                  NaN   \n",
       "20 0 days 00:00:02.653677           XGBRegressor                  NaN   \n",
       "21 0 days 00:00:04.330331           XGBRegressor                  NaN   \n",
       "22 0 days 00:00:06.737730           XGBRegressor                  NaN   \n",
       "23 0 days 00:00:05.299492           XGBRegressor                  NaN   \n",
       "24 0 days 00:00:07.299458           XGBRegressor                  NaN   \n",
       "\n",
       "    params_rf_n_estimators  params_xgb_max_depth  params_xgb_n_estimators  \\\n",
       "0                     91.0                   NaN                      NaN   \n",
       "1                      NaN                   3.0                     76.0   \n",
       "2                     29.0                   NaN                      NaN   \n",
       "3                     64.0                   NaN                      NaN   \n",
       "4                      NaN                  28.0                     22.0   \n",
       "5                     83.0                   NaN                      NaN   \n",
       "6                      NaN                   5.0                     34.0   \n",
       "7                     87.0                   NaN                      NaN   \n",
       "8                      NaN                  10.0                     97.0   \n",
       "9                      NaN                   3.0                     15.0   \n",
       "10                     NaN                   8.0                     49.0   \n",
       "11                    50.0                   NaN                      NaN   \n",
       "12                     NaN                   2.0                     43.0   \n",
       "13                    60.0                   NaN                      NaN   \n",
       "14                     NaN                  17.0                     31.0   \n",
       "15                    60.0                   NaN                      NaN   \n",
       "16                     NaN                   5.0                     64.0   \n",
       "17                     NaN                   5.0                     70.0   \n",
       "18                     NaN                   5.0                     71.0   \n",
       "19                     NaN                   4.0                     68.0   \n",
       "20                     NaN                   2.0                     91.0   \n",
       "21                     NaN                   5.0                     66.0   \n",
       "22                     NaN                   8.0                     63.0   \n",
       "23                     NaN                   5.0                     81.0   \n",
       "24                     NaN                  10.0                     54.0   \n",
       "\n",
       "       state  \n",
       "0   COMPLETE  \n",
       "1   COMPLETE  \n",
       "2   COMPLETE  \n",
       "3   COMPLETE  \n",
       "4   COMPLETE  \n",
       "5   COMPLETE  \n",
       "6   COMPLETE  \n",
       "7   COMPLETE  \n",
       "8   COMPLETE  \n",
       "9   COMPLETE  \n",
       "10  COMPLETE  \n",
       "11  COMPLETE  \n",
       "12  COMPLETE  \n",
       "13  COMPLETE  \n",
       "14  COMPLETE  \n",
       "15  COMPLETE  \n",
       "16  COMPLETE  \n",
       "17  COMPLETE  \n",
       "18  COMPLETE  \n",
       "19  COMPLETE  \n",
       "20  COMPLETE  \n",
       "21  COMPLETE  \n",
       "22  COMPLETE  \n",
       "23  COMPLETE  \n",
       "24  COMPLETE  "
      ]
     },
     "execution_count": 19,
     "metadata": {},
     "output_type": "execute_result"
    }
   ],
   "source": [
    "print('Minimum mean squared error: ' + str(study.best_value))\n",
    "print('Best parameter: ' + str(study.best_params))\n",
    "\n",
    "study.trials_dataframe()\n"
   ]
  },
  {
   "cell_type": "code",
   "execution_count": 20,
   "metadata": {},
   "outputs": [],
   "source": [
    "#applying SGDRegressor with best hyper-parameter\n",
    "clf = XGBRegressor(max_depth=study.best_params['xgb_max_depth'],n_estimators=study.best_params['xgb_n_estimators'])\n",
    "clf.fit(nX_train, y_train)\n",
    "\n",
    "train_pred = clf.predict(nX_train)\n",
    "train_MAPE = mean_absolute_error(y_train, train_pred)/ (sum(y_train)/len(y_train))\n",
    "train_MSE = mean_squared_error(y_train, train_pred)\n",
    "\n",
    "\n",
    "test_pred = clf.predict(nX_test)\n",
    "test_MAPE = mean_absolute_error(y_test, test_pred)/ (sum(y_test)/len(y_test))\n",
    "test_MSE = mean_squared_error(y_test, test_pred)"
   ]
  },
  {
   "cell_type": "code",
   "execution_count": 21,
   "metadata": {},
   "outputs": [
    {
     "data": {
      "text/plain": [
       "0.08988252040121417"
      ]
     },
     "execution_count": 21,
     "metadata": {},
     "output_type": "execute_result"
    }
   ],
   "source": [
    "test_MAPE"
   ]
  },
  {
   "cell_type": "code",
   "execution_count": 26,
   "metadata": {},
   "outputs": [],
   "source": [
    "fi = dict(zip(x_train_feat_a.columns,clf.feature_importances_))"
   ]
  },
  {
   "cell_type": "code",
   "execution_count": 28,
   "metadata": {},
   "outputs": [
    {
     "data": {
      "text/html": [
       "<div>\n",
       "<style scoped>\n",
       "    .dataframe tbody tr th:only-of-type {\n",
       "        vertical-align: middle;\n",
       "    }\n",
       "\n",
       "    .dataframe tbody tr th {\n",
       "        vertical-align: top;\n",
       "    }\n",
       "\n",
       "    .dataframe thead th {\n",
       "        text-align: right;\n",
       "    }\n",
       "</style>\n",
       "<table border=\"1\" class=\"dataframe\">\n",
       "  <thead>\n",
       "    <tr style=\"text-align: right;\">\n",
       "      <th></th>\n",
       "      <th>Importance</th>\n",
       "    </tr>\n",
       "  </thead>\n",
       "  <tbody>\n",
       "    <tr>\n",
       "      <th>precip</th>\n",
       "      <td>0.007498</td>\n",
       "    </tr>\n",
       "    <tr>\n",
       "      <th>temp</th>\n",
       "      <td>0.485947</td>\n",
       "    </tr>\n",
       "    <tr>\n",
       "      <th>precip_Absolute energy</th>\n",
       "      <td>0.007875</td>\n",
       "    </tr>\n",
       "    <tr>\n",
       "      <th>precip_Area under the curve</th>\n",
       "      <td>0.009065</td>\n",
       "    </tr>\n",
       "    <tr>\n",
       "      <th>precip_Centroid</th>\n",
       "      <td>0.009930</td>\n",
       "    </tr>\n",
       "  </tbody>\n",
       "</table>\n",
       "</div>"
      ],
      "text/plain": [
       "                             Importance\n",
       "precip                         0.007498\n",
       "temp                           0.485947\n",
       "precip_Absolute energy         0.007875\n",
       "precip_Area under the curve    0.009065\n",
       "precip_Centroid                0.009930"
      ]
     },
     "execution_count": 28,
     "metadata": {},
     "output_type": "execute_result"
    }
   ],
   "source": [
    "plot_importance_df = pd.DataFrame.from_dict(fi,orient='index',columns=['Importance'])\n",
    "plot_importance_df.head()\n"
   ]
  },
  {
   "cell_type": "code",
   "execution_count": 40,
   "metadata": {},
   "outputs": [
    {
     "data": {
      "image/png": "[encoded data removed]",
      "text/plain": [
       "<Figure size 720x1440 with 1 Axes>"
      ]
     },
     "metadata": {
      "needs_background": "light"
     },
     "output_type": "display_data"
    }
   ],
   "source": [
    "import matplotlib.pyplot as plt\n",
    "\n",
    "final_plot_imp_df = plot_importance_df.iloc[plot_importance_df['Importance'].abs().argsort()]\n",
    "final_plot_imp_df.plot(kind='barh', figsize=(10, 20))\n",
    "plt.title('Feature Importance')\n",
    "plt.axvline(x=0, color='.5')\n",
    "plt.subplots_adjust(left=.3)"
   ]
  },
  {
   "cell_type": "code",
   "execution_count": 42,
   "metadata": {},
   "outputs": [
    {
     "name": "stdout",
     "output_type": "stream",
     "text": [
      "[('precip', -0.2809127), ('temp', 0.6606249), ('precip_Absolute energy', -0.39627114), ('precip_Area under the curve', 1.1719327), ('precip_Centroid', -19.701424), ('precip_ECDF Percentile Count_0', 9.051857), ('precip_ECDF Percentile_0', 3.8964424), ('precip_ECDF Percentile_1', 0.0), ('precip_ECDF Slope', -0.5601129), ('precip_Entropy', 0.0), ('precip_Histogram_5', 0.59341353), ('precip_Histogram_6', 23.183138), ('precip_Histogram_7', 1.7487683), ('precip_Histogram_8', 31.486134), ('precip_Histogram_9', -0.646571), ('precip_Interquartile range', -25.148878), ('precip_Kurtosis', 0.0), ('precip_Max', -2.5479548), ('precip_Mean diff', 10.172111), ('precip_Median', -1.2755972), ('precip_Median absolute deviation', 4.0917444), ('precip_Median absolute diff', -1.0644184), ('precip_Median diff', 0.567524), ('precip_Negative turning points', 0.0), ('precip_Positive turning points', -8.155094), ('precip_Signal distance', 0.0), ('precip_Slope', -19.484255), ('precip_Zero crossing rate', -160.25244), ('temp_Centroid', 0.4752753), ('temp_ECDF Percentile Count_0', -20.040003), ('temp_ECDF Slope', -7.588278), ('temp_Entropy', -8.310156), ('temp_Histogram_5', 0.0), ('temp_Histogram_6', -1.6805022), ('temp_Interquartile range', 7.454954), ('temp_Kurtosis', -2.4929976), ('temp_Mean absolute diff', -2.9166076), ('temp_Mean diff', 953.71014), ('temp_Median absolute deviation', 0.0), ('temp_Median absolute diff', -1.3531137), ('temp_Negative turning points', 0.08526813), ('temp_Positive turning points', -23.583454), ('temp_Skewness', 0.85884684), ('temp_Variance', 1.3365961), ('temp_Zero crossing rate', 1.7879722)]\n"
     ]
    },
    {
     "data": {
      "image/png": "[encoded data removed]",
      "text/plain": [
       "<Figure size 2160x1440 with 1 Axes>"
      ]
     },
     "metadata": {
      "needs_background": "light"
     },
     "output_type": "display_data"
    }
   ],
   "source": [
    "from transparency.python.explainer.ensemble_tree import EnsembleTreeExplainer, EnsembleTreeExplainerTransformer\n",
    "\n",
    "columns = x_train_feat_a.columns\n",
    "\n",
    "# prediction explanation generation\n",
    "expl = EnsembleTreeExplainer(clf)\n",
    "contributions, contrib_intercept = expl.predict(nX_test)\n",
    "average_contribs = list(zip(columns, np.mean(contributions, axis=0)))\n",
    "print(average_contribs)\n",
    "\n",
    "# Plotting mean feature contributions over the total population\n",
    "plot_contrib_df = pd.DataFrame(np.mean(contributions, axis=0), index=columns, columns=['Contributions'])\n",
    "final_plot_contrib_df = plot_contrib_df.iloc[plot_contrib_df['Contributions'].abs().argsort()]\n",
    "final_plot_contrib_df.plot(kind='barh', figsize=(30, 20))\n",
    "plt.title('Feature Contributions')\n",
    "plt.axvline(x=0, color='.5')\n",
    "plt.subplots_adjust(left=.3)\n",
    "plt.show()"
   ]
  },
  {
   "cell_type": "code",
   "execution_count": null,
   "metadata": {},
   "outputs": [],
   "source": []
  }
 ],
 "metadata": {
  "kernelspec": {
   "display_name": "Python 3",
   "language": "python",
   "name": "python3"
  },
  "language_info": {
   "codemirror_mode": {
    "name": "ipython",
    "version": 3
   },
   "file_extension": ".py",
   "mimetype": "text/x-python",
   "name": "python",
   "nbconvert_exporter": "python",
   "pygments_lexer": "ipython3",
   "version": "3.7.0"
  }
 },
 "nbformat": 4,
 "nbformat_minor": 4
}